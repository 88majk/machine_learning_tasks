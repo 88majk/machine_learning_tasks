{
 "cells": [
  {
   "cell_type": "code",
   "execution_count": 1,
   "metadata": {},
   "outputs": [
    {
     "data": {
      "text/plain": [
       "['dot. aplikacji Mandrill', 'dot. innych']"
      ]
     },
     "execution_count": 1,
     "metadata": {},
     "output_type": "execute_result"
    }
   ],
   "source": [
    "import pandas as pd\n",
    "\n",
    "xls = pd.ExcelFile('mandrill.xlsx')\n",
    "\n",
    "sheet_names = xls.sheet_names\n",
    "sheet_names"
   ]
  },
  {
   "cell_type": "markdown",
   "metadata": {},
   "source": [
    "## Uploading data from Excel to DataFrame"
   ]
  },
  {
   "cell_type": "code",
   "execution_count": 2,
   "metadata": {},
   "outputs": [
    {
     "name": "stderr",
     "output_type": "stream",
     "text": [
      "c:\\Users\\mikol\\AppData\\Local\\Programs\\Python\\Python311\\Lib\\site-packages\\openpyxl\\worksheet\\_reader.py:329: UserWarning: Unknown extension is not supported and will be removed\n",
      "  warn(msg)\n",
      "c:\\Users\\mikol\\AppData\\Local\\Programs\\Python\\Python311\\Lib\\site-packages\\openpyxl\\worksheet\\_reader.py:329: UserWarning: Unknown extension is not supported and will be removed\n",
      "  warn(msg)\n"
     ]
    },
    {
     "data": {
      "text/plain": [
       "(                                                Post\n",
       " 0  [blog] Using Nullmailer and Mandrill for your ...\n",
       " 1  [blog] Using Postfix and free Mandrill email s...\n",
       " 2  @aalbertson There are several reasons emails g...\n",
       " 3  @adrienneleigh I just switched it over to Mand...\n",
       " 4  @ankeshk +1 to @mailchimp We use MailChimp for...,\n",
       "                                                 Post\n",
       " 0              ¿En donde esta su remontada Mandrill?\n",
       " 1  .@Katie_PhD Alternate, 'reproachful mandrill' ...\n",
       " 2  .@theophani can i get \"drill\" in there? it wou...\n",
       " 3  “@ChrisJBoyland: Baby Mandrill Paignton Zoo 29...\n",
       " 4  “@MISSMYA #NameAnAmazingBand MANDRILL!” Mint C...)"
      ]
     },
     "execution_count": 2,
     "metadata": {},
     "output_type": "execute_result"
    }
   ],
   "source": [
    "mandrill_posts = pd.read_excel(xls, sheet_name='dot. aplikacji Mandrill')\n",
    "other_posts = pd.read_excel(xls, sheet_name='dot. innych')\n",
    "\n",
    "(mandrill_posts.head(), other_posts.head())"
   ]
  },
  {
   "cell_type": "markdown",
   "metadata": {},
   "source": [
    "## Translating and cleaning the text, deleting numbers, special characters and low lexical content words"
   ]
  },
  {
   "cell_type": "code",
   "execution_count": 3,
   "metadata": {},
   "outputs": [
    {
     "data": {
      "text/html": [
       "<div>\n",
       "<style scoped>\n",
       "    .dataframe tbody tr th:only-of-type {\n",
       "        vertical-align: middle;\n",
       "    }\n",
       "\n",
       "    .dataframe tbody tr th {\n",
       "        vertical-align: top;\n",
       "    }\n",
       "\n",
       "    .dataframe thead th {\n",
       "        text-align: right;\n",
       "    }\n",
       "</style>\n",
       "<table border=\"1\" class=\"dataframe\">\n",
       "  <thead>\n",
       "    <tr style=\"text-align: right;\">\n",
       "      <th></th>\n",
       "      <th>Post</th>\n",
       "      <th>Cleaned_Post</th>\n",
       "    </tr>\n",
       "  </thead>\n",
       "  <tbody>\n",
       "    <tr>\n",
       "      <th>0</th>\n",
       "      <td>[blog] Using Nullmailer and Mandrill for your ...</td>\n",
       "      <td>blog using nullmailer mandrill ubuntu linux se...</td>\n",
       "    </tr>\n",
       "    <tr>\n",
       "      <th>1</th>\n",
       "      <td>[blog] Using Postfix and free Mandrill email s...</td>\n",
       "      <td>blog using postfix free mandrill email service...</td>\n",
       "    </tr>\n",
       "    <tr>\n",
       "      <th>2</th>\n",
       "      <td>@aalbertson There are several reasons emails g...</td>\n",
       "      <td>aalbertson reasons emails spam mind submitting...</td>\n",
       "    </tr>\n",
       "    <tr>\n",
       "      <th>3</th>\n",
       "      <td>@adrienneleigh I just switched it over to Mand...</td>\n",
       "      <td>adrienneleigh just switched mandrill lets impr...</td>\n",
       "    </tr>\n",
       "    <tr>\n",
       "      <th>4</th>\n",
       "      <td>@ankeshk +1 to @mailchimp We use MailChimp for...</td>\n",
       "      <td>ankeshk mailchimp use mailchimp marketing emai...</td>\n",
       "    </tr>\n",
       "    <tr>\n",
       "      <th>...</th>\n",
       "      <td>...</td>\n",
       "      <td>...</td>\n",
       "    </tr>\n",
       "    <tr>\n",
       "      <th>145</th>\n",
       "      <td>We've simplified and reduced pricing for every...</td>\n",
       "      <td>weve simplified reduced pricing hooray</td>\n",
       "    </tr>\n",
       "    <tr>\n",
       "      <th>146</th>\n",
       "      <td>We’re Unifying Your Mandrill and MailChimp Dat...</td>\n",
       "      <td>unifying mandrill mailchimp data mailchimp ema...</td>\n",
       "    </tr>\n",
       "    <tr>\n",
       "      <th>147</th>\n",
       "      <td>Whaaat, I didn't know @MailChimp had an email ...</td>\n",
       "      <td>whaaat didnt know mailchimp email delivery api...</td>\n",
       "    </tr>\n",
       "    <tr>\n",
       "      <th>148</th>\n",
       "      <td>would like to send emails for welcome, passwor...</td>\n",
       "      <td>like send emails welcome password resets payme...</td>\n",
       "    </tr>\n",
       "    <tr>\n",
       "      <th>149</th>\n",
       "      <td>Zapier Makes Mandrill Integration Easy | Mandr...</td>\n",
       "      <td>zapier makes mandrill integration easy mandril...</td>\n",
       "    </tr>\n",
       "  </tbody>\n",
       "</table>\n",
       "<p>150 rows × 2 columns</p>\n",
       "</div>"
      ],
      "text/plain": [
       "                                                  Post  \\\n",
       "0    [blog] Using Nullmailer and Mandrill for your ...   \n",
       "1    [blog] Using Postfix and free Mandrill email s...   \n",
       "2    @aalbertson There are several reasons emails g...   \n",
       "3    @adrienneleigh I just switched it over to Mand...   \n",
       "4    @ankeshk +1 to @mailchimp We use MailChimp for...   \n",
       "..                                                 ...   \n",
       "145  We've simplified and reduced pricing for every...   \n",
       "146  We’re Unifying Your Mandrill and MailChimp Dat...   \n",
       "147  Whaaat, I didn't know @MailChimp had an email ...   \n",
       "148  would like to send emails for welcome, passwor...   \n",
       "149  Zapier Makes Mandrill Integration Easy | Mandr...   \n",
       "\n",
       "                                          Cleaned_Post  \n",
       "0    blog using nullmailer mandrill ubuntu linux se...  \n",
       "1    blog using postfix free mandrill email service...  \n",
       "2    aalbertson reasons emails spam mind submitting...  \n",
       "3    adrienneleigh just switched mandrill lets impr...  \n",
       "4    ankeshk mailchimp use mailchimp marketing emai...  \n",
       "..                                                 ...  \n",
       "145             weve simplified reduced pricing hooray  \n",
       "146  unifying mandrill mailchimp data mailchimp ema...  \n",
       "147  whaaat didnt know mailchimp email delivery api...  \n",
       "148  like send emails welcome password resets payme...  \n",
       "149  zapier makes mandrill integration easy mandril...  \n",
       "\n",
       "[150 rows x 2 columns]"
      ]
     },
     "execution_count": 3,
     "metadata": {},
     "output_type": "execute_result"
    }
   ],
   "source": [
    "from sklearn.feature_extraction.text import ENGLISH_STOP_WORDS\n",
    "import re\n",
    "from googletrans import Translator\n",
    "\n",
    "def translate_to_english(text):\n",
    "    translator = Translator()\n",
    "    translation = translator.translate(text, dest='en')\n",
    "    return translation.text\n",
    "\n",
    "def clean_text(text):\n",
    "    text = translate_to_english(text)\n",
    "    text = re.sub(r'http\\S+', '', text)\n",
    "    text = re.sub(r'[^a-zA-Z\\s]', '', text)\n",
    "    text = text.lower()\n",
    "    text = ' '.join([word for word in text.split() if word not in ENGLISH_STOP_WORDS])\n",
    "    return text\n",
    "\n",
    "mandrill_posts['Cleaned_Post'] = mandrill_posts['Post'].apply(clean_text)\n",
    "other_posts['Cleaned_Post'] = other_posts['Post'].apply(clean_text)\n",
    "\n",
    "mandrill_posts[['Post', 'Cleaned_Post']]"
   ]
  },
  {
   "cell_type": "code",
   "execution_count": 4,
   "metadata": {},
   "outputs": [
    {
     "data": {
      "text/html": [
       "<div>\n",
       "<style scoped>\n",
       "    .dataframe tbody tr th:only-of-type {\n",
       "        vertical-align: middle;\n",
       "    }\n",
       "\n",
       "    .dataframe tbody tr th {\n",
       "        vertical-align: top;\n",
       "    }\n",
       "\n",
       "    .dataframe thead th {\n",
       "        text-align: right;\n",
       "    }\n",
       "</style>\n",
       "<table border=\"1\" class=\"dataframe\">\n",
       "  <thead>\n",
       "    <tr style=\"text-align: right;\">\n",
       "      <th></th>\n",
       "      <th>Post</th>\n",
       "      <th>Cleaned_Post</th>\n",
       "    </tr>\n",
       "  </thead>\n",
       "  <tbody>\n",
       "    <tr>\n",
       "      <th>0</th>\n",
       "      <td>¿En donde esta su remontada Mandrill?</td>\n",
       "      <td>comeback mandrill</td>\n",
       "    </tr>\n",
       "    <tr>\n",
       "      <th>1</th>\n",
       "      <td>.@Katie_PhD Alternate, 'reproachful mandrill' ...</td>\n",
       "      <td>katiephd alternate reproachful mandrill cover ...</td>\n",
       "    </tr>\n",
       "    <tr>\n",
       "      <th>2</th>\n",
       "      <td>.@theophani can i get \"drill\" in there? it wou...</td>\n",
       "      <td>theophani drill picture mandrill holding drill...</td>\n",
       "    </tr>\n",
       "    <tr>\n",
       "      <th>3</th>\n",
       "      <td>“@ChrisJBoyland: Baby Mandrill Paignton Zoo 29...</td>\n",
       "      <td>chrisjboyland baby mandrill paignton zoo th ap...</td>\n",
       "    </tr>\n",
       "    <tr>\n",
       "      <th>4</th>\n",
       "      <td>“@MISSMYA #NameAnAmazingBand MANDRILL!” Mint C...</td>\n",
       "      <td>missmya nameanamazingband mandrill mint condit...</td>\n",
       "    </tr>\n",
       "    <tr>\n",
       "      <th>...</th>\n",
       "      <td>...</td>\n",
       "      <td>...</td>\n",
       "    </tr>\n",
       "    <tr>\n",
       "      <th>145</th>\n",
       "      <td>Why Are Monkey Butts So Colorful?: Mandrill Wi...</td>\n",
       "      <td>monkey butts colorful mandrill wikimedia commo...</td>\n",
       "    </tr>\n",
       "    <tr>\n",
       "      <th>146</th>\n",
       "      <td>You can now experience the thrills of classic ...</td>\n",
       "      <td>experience thrills classic pc gaming mandrill ...</td>\n",
       "    </tr>\n",
       "    <tr>\n",
       "      <th>147</th>\n",
       "      <td>ジャンルごった煮のバンド、Mandrillの75年作！オススメはOddiseeがサンプリング...</td>\n",
       "      <td>years mandrill boiled band genrethe recommenda...</td>\n",
       "    </tr>\n",
       "    <tr>\n",
       "      <th>148</th>\n",
       "      <td>パーカッシヴなビートに重厚なベースやスペイシーなシンセ等が絡むB1が◎な80年の好作！シッカ...</td>\n",
       "      <td>b heavy bass spacey synths percussive beats ye...</td>\n",
       "    </tr>\n",
       "    <tr>\n",
       "      <th>149</th>\n",
       "      <td>最近ではNottz feat Pete Rock / Turn It Upでも使われていたレ...</td>\n",
       "      <td>rare groove break classic used nottz feat pete...</td>\n",
       "    </tr>\n",
       "  </tbody>\n",
       "</table>\n",
       "<p>150 rows × 2 columns</p>\n",
       "</div>"
      ],
      "text/plain": [
       "                                                  Post  \\\n",
       "0                ¿En donde esta su remontada Mandrill?   \n",
       "1    .@Katie_PhD Alternate, 'reproachful mandrill' ...   \n",
       "2    .@theophani can i get \"drill\" in there? it wou...   \n",
       "3    “@ChrisJBoyland: Baby Mandrill Paignton Zoo 29...   \n",
       "4    “@MISSMYA #NameAnAmazingBand MANDRILL!” Mint C...   \n",
       "..                                                 ...   \n",
       "145  Why Are Monkey Butts So Colorful?: Mandrill Wi...   \n",
       "146  You can now experience the thrills of classic ...   \n",
       "147  ジャンルごった煮のバンド、Mandrillの75年作！オススメはOddiseeがサンプリング...   \n",
       "148  パーカッシヴなビートに重厚なベースやスペイシーなシンセ等が絡むB1が◎な80年の好作！シッカ...   \n",
       "149  最近ではNottz feat Pete Rock / Turn It Upでも使われていたレ...   \n",
       "\n",
       "                                          Cleaned_Post  \n",
       "0                                    comeback mandrill  \n",
       "1    katiephd alternate reproachful mandrill cover ...  \n",
       "2    theophani drill picture mandrill holding drill...  \n",
       "3    chrisjboyland baby mandrill paignton zoo th ap...  \n",
       "4    missmya nameanamazingband mandrill mint condit...  \n",
       "..                                                 ...  \n",
       "145  monkey butts colorful mandrill wikimedia commo...  \n",
       "146  experience thrills classic pc gaming mandrill ...  \n",
       "147  years mandrill boiled band genrethe recommenda...  \n",
       "148  b heavy bass spacey synths percussive beats ye...  \n",
       "149  rare groove break classic used nottz feat pete...  \n",
       "\n",
       "[150 rows x 2 columns]"
      ]
     },
     "execution_count": 4,
     "metadata": {},
     "output_type": "execute_result"
    }
   ],
   "source": [
    "other_posts[['Post', 'Cleaned_Post']]"
   ]
  },
  {
   "cell_type": "markdown",
   "metadata": {},
   "source": [
    "## Vectorizing text and creating the model using Naive Bayes Classifier"
   ]
  },
  {
   "cell_type": "code",
   "execution_count": 11,
   "metadata": {},
   "outputs": [
    {
     "data": {
      "text/html": [
       "<style>#sk-container-id-2 {color: black;}#sk-container-id-2 pre{padding: 0;}#sk-container-id-2 div.sk-toggleable {background-color: white;}#sk-container-id-2 label.sk-toggleable__label {cursor: pointer;display: block;width: 100%;margin-bottom: 0;padding: 0.3em;box-sizing: border-box;text-align: center;}#sk-container-id-2 label.sk-toggleable__label-arrow:before {content: \"▸\";float: left;margin-right: 0.25em;color: #696969;}#sk-container-id-2 label.sk-toggleable__label-arrow:hover:before {color: black;}#sk-container-id-2 div.sk-estimator:hover label.sk-toggleable__label-arrow:before {color: black;}#sk-container-id-2 div.sk-toggleable__content {max-height: 0;max-width: 0;overflow: hidden;text-align: left;background-color: #f0f8ff;}#sk-container-id-2 div.sk-toggleable__content pre {margin: 0.2em;color: black;border-radius: 0.25em;background-color: #f0f8ff;}#sk-container-id-2 input.sk-toggleable__control:checked~div.sk-toggleable__content {max-height: 200px;max-width: 100%;overflow: auto;}#sk-container-id-2 input.sk-toggleable__control:checked~label.sk-toggleable__label-arrow:before {content: \"▾\";}#sk-container-id-2 div.sk-estimator input.sk-toggleable__control:checked~label.sk-toggleable__label {background-color: #d4ebff;}#sk-container-id-2 div.sk-label input.sk-toggleable__control:checked~label.sk-toggleable__label {background-color: #d4ebff;}#sk-container-id-2 input.sk-hidden--visually {border: 0;clip: rect(1px 1px 1px 1px);clip: rect(1px, 1px, 1px, 1px);height: 1px;margin: -1px;overflow: hidden;padding: 0;position: absolute;width: 1px;}#sk-container-id-2 div.sk-estimator {font-family: monospace;background-color: #f0f8ff;border: 1px dotted black;border-radius: 0.25em;box-sizing: border-box;margin-bottom: 0.5em;}#sk-container-id-2 div.sk-estimator:hover {background-color: #d4ebff;}#sk-container-id-2 div.sk-parallel-item::after {content: \"\";width: 100%;border-bottom: 1px solid gray;flex-grow: 1;}#sk-container-id-2 div.sk-label:hover label.sk-toggleable__label {background-color: #d4ebff;}#sk-container-id-2 div.sk-serial::before {content: \"\";position: absolute;border-left: 1px solid gray;box-sizing: border-box;top: 0;bottom: 0;left: 50%;z-index: 0;}#sk-container-id-2 div.sk-serial {display: flex;flex-direction: column;align-items: center;background-color: white;padding-right: 0.2em;padding-left: 0.2em;position: relative;}#sk-container-id-2 div.sk-item {position: relative;z-index: 1;}#sk-container-id-2 div.sk-parallel {display: flex;align-items: stretch;justify-content: center;background-color: white;position: relative;}#sk-container-id-2 div.sk-item::before, #sk-container-id-2 div.sk-parallel-item::before {content: \"\";position: absolute;border-left: 1px solid gray;box-sizing: border-box;top: 0;bottom: 0;left: 50%;z-index: -1;}#sk-container-id-2 div.sk-parallel-item {display: flex;flex-direction: column;z-index: 1;position: relative;background-color: white;}#sk-container-id-2 div.sk-parallel-item:first-child::after {align-self: flex-end;width: 50%;}#sk-container-id-2 div.sk-parallel-item:last-child::after {align-self: flex-start;width: 50%;}#sk-container-id-2 div.sk-parallel-item:only-child::after {width: 0;}#sk-container-id-2 div.sk-dashed-wrapped {border: 1px dashed gray;margin: 0 0.4em 0.5em 0.4em;box-sizing: border-box;padding-bottom: 0.4em;background-color: white;}#sk-container-id-2 div.sk-label label {font-family: monospace;font-weight: bold;display: inline-block;line-height: 1.2em;}#sk-container-id-2 div.sk-label-container {text-align: center;}#sk-container-id-2 div.sk-container {/* jupyter's `normalize.less` sets `[hidden] { display: none; }` but bootstrap.min.css set `[hidden] { display: none !important; }` so we also need the `!important` here to be able to override the default hidden behavior on the sphinx rendered scikit-learn.org. See: https://github.com/scikit-learn/scikit-learn/issues/21755 */display: inline-block !important;position: relative;}#sk-container-id-2 div.sk-text-repr-fallback {display: none;}</style><div id=\"sk-container-id-2\" class=\"sk-top-container\"><div class=\"sk-text-repr-fallback\"><pre>MultinomialNB()</pre><b>In a Jupyter environment, please rerun this cell to show the HTML representation or trust the notebook. <br />On GitHub, the HTML representation is unable to render, please try loading this page with nbviewer.org.</b></div><div class=\"sk-container\" hidden><div class=\"sk-item\"><div class=\"sk-estimator sk-toggleable\"><input class=\"sk-toggleable__control sk-hidden--visually\" id=\"sk-estimator-id-2\" type=\"checkbox\" checked><label for=\"sk-estimator-id-2\" class=\"sk-toggleable__label sk-toggleable__label-arrow\">MultinomialNB</label><div class=\"sk-toggleable__content\"><pre>MultinomialNB()</pre></div></div></div></div></div>"
      ],
      "text/plain": [
       "MultinomialNB()"
      ]
     },
     "execution_count": 11,
     "metadata": {},
     "output_type": "execute_result"
    }
   ],
   "source": [
    "from sklearn.model_selection import train_test_split\n",
    "from sklearn.feature_extraction.text import CountVectorizer\n",
    "from sklearn.naive_bayes import MultinomialNB\n",
    "from sklearn.metrics import classification_report, confusion_matrix\n",
    "\n",
    "mandrill_posts['Label'] = 'Mandrill'\n",
    "other_posts['Label'] = 'Other'\n",
    "\n",
    "all_posts = pd.concat([mandrill_posts[['Cleaned_Post', 'Label']], other_posts[['Cleaned_Post', 'Label']]])\n",
    "\n",
    "vectorizer = CountVectorizer()\n",
    "X = vectorizer.fit_transform(all_posts['Cleaned_Post'])\n",
    "y = all_posts['Label']\n",
    "\n",
    "X_train, X_test, y_train, y_test = train_test_split(X, y, test_size=0.2, random_state=42)\n",
    "\n",
    "model = MultinomialNB()\n",
    "model.fit(X_train, y_train)"
   ]
  },
  {
   "cell_type": "markdown",
   "metadata": {},
   "source": [
    "## Evaluating the model"
   ]
  },
  {
   "cell_type": "code",
   "execution_count": 18,
   "metadata": {},
   "outputs": [
    {
     "name": "stdout",
     "output_type": "stream",
     "text": [
      "Confusion matrix: \n",
      " [[27  2]\n",
      " [ 2 29]]\n",
      "\n",
      "Class report: \n",
      "               precision    recall  f1-score   support\n",
      "\n",
      "    Mandrill       0.93      0.93      0.93        29\n",
      "       Other       0.94      0.94      0.94        31\n",
      "\n",
      "    accuracy                           0.93        60\n",
      "   macro avg       0.93      0.93      0.93        60\n",
      "weighted avg       0.93      0.93      0.93        60\n",
      "\n"
     ]
    }
   ],
   "source": [
    "y_pred = model.predict(X_test)\n",
    "\n",
    "report = classification_report(y_test, y_pred)\n",
    "matrix = confusion_matrix(y_test, y_pred)\n",
    "\n",
    "print(\"Confusion matrix: \\n\", matrix)\n",
    "print(\"\\nClass report: \\n\", report)"
   ]
  },
  {
   "cell_type": "markdown",
   "metadata": {},
   "source": [
    "The measure *accuracy* is a relation of all truly predicted classes to the total cases, so 0.93 value tells that the model is actually very accurative. Next, the *precision* measure tells us what is the ratio of true positive predictions to the sum of true positives and false positives. Shortly, it tells us how the model perfromrs in classifying to the selected class. For every class (Mandill and Other) it classifies very well. *Recall* measures the ability of the model to capture all the relevant instances, or the ratio of correctly predicted positive observations to the total actual positives."
   ]
  },
  {
   "cell_type": "markdown",
   "metadata": {},
   "source": [
    "## Predicting classes on own data"
   ]
  },
  {
   "cell_type": "code",
   "execution_count": 15,
   "metadata": {},
   "outputs": [
    {
     "name": "stdout",
     "output_type": "stream",
     "text": [
      "Text classification\n",
      "\n",
      "for comment \"animal hair colorful\" model predicted class: Other\n",
      "for comment \"mandrill login issues\" model predicted class: Mandrill\n",
      "for comment \"mandrill monkey jungle bananas\" model predicted class: Mandrill\n",
      "for comment \"domain api pricing\" model predicted class: Mandrill\n"
     ]
    }
   ],
   "source": [
    "own_comments = [\"animal hair colorful\", \"mandrill login issues\", \"mandrill monkey jungle bananas\", \"domain api pricing\"]\n",
    "\n",
    "print('Text classification\\n')\n",
    "for comment in own_comments:\n",
    "    my_text_vectorized = vectorizer.transform([comment])\n",
    "    my_prediction = model.predict(my_text_vectorized)\n",
    "    print(f'for comment \"{comment}\" model predicted class: {my_prediction[0]}')"
   ]
  },
  {
   "cell_type": "markdown",
   "metadata": {},
   "source": [
    "## Presenting how vectorizing the text works"
   ]
  },
  {
   "cell_type": "code",
   "execution_count": 17,
   "metadata": {},
   "outputs": [
    {
     "name": "stdout",
     "output_type": "stream",
     "text": [
      "Word indexes: {'this': 8, 'is': 5, 'first': 3, 'example': 2, 'second': 6, 'and': 1, 'third': 7, 'fourth': 4, 'also': 0}\n",
      "\n",
      "Vector matrix:\n",
      "[[0 0 1 1 0 1 0 0 1]\n",
      " [0 0 1 0 0 1 1 0 1]\n",
      " [0 1 1 0 0 1 0 1 1]\n",
      " [1 0 2 0 1 1 0 0 0]]\n"
     ]
    }
   ],
   "source": [
    "test_dictionary = [\n",
    "    \"This is first example\",\n",
    "    \"This is second example\",\n",
    "    \"And this is third example\",\n",
    "    \"Fourth example is also example\"\n",
    "]\n",
    "\n",
    "vectorizer = CountVectorizer()\n",
    "X = vectorizer.fit_transform(test_dictionary)\n",
    "\n",
    "print(\"Word indexes:\", vectorizer.vocabulary_)\n",
    "\n",
    "print(\"\\nVector matrix:\")\n",
    "print(X.toarray())"
   ]
  }
 ],
 "metadata": {
  "kernelspec": {
   "display_name": "Python 3",
   "language": "python",
   "name": "python3"
  },
  "language_info": {
   "codemirror_mode": {
    "name": "ipython",
    "version": 3
   },
   "file_extension": ".py",
   "mimetype": "text/x-python",
   "name": "python",
   "nbconvert_exporter": "python",
   "pygments_lexer": "ipython3",
   "version": "3.11.3"
  }
 },
 "nbformat": 4,
 "nbformat_minor": 2
}
